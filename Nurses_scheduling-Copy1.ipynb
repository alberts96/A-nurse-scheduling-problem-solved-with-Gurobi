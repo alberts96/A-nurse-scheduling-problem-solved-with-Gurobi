{
 "cells": [
  {
   "cell_type": "markdown",
   "metadata": {},
   "source": [
    "# <center> Nurse Scheduling Problem </center>\n",
    "\n",
    "\n",
    "\n",
    "A large hospital has to cover a set of day-care activities with the available nurses.Each nurse can perform different subsets of the activities, which are implicitly definedby time and skill constraints.  In particular, for each activity the starting time andthe ending time are given, so it is known whether or not it is possible for the samenurse to perform both in sequence (it is assumed that it takes a short enough timeto move across the hospital so that this can be ignored).  Furthermore, nurses can beof three skill levels (beginner, intermediate, advanced), and each activity is markedwith the required skill level:  only nurses with the required skill, or one above, canperform it.  Union regulations dictate the maximum working time (sum of the timeshe’s performing activities) for each nurse; furthermore, nurses can’t be left waitingfor more that a given period (say, two hours) between subsequent activities.  Giventhe available number of nurses with each skill level, the problem is to assign a feasibleset of duties to the smallest possible number of nurses in order to have each activityperformed by exactly one of them.  Among solutions with the same number of nurses,these where less nurses perform activities requiring a skill level below their own arepreferred; the more the skill level is below, the more this should be avoided (but notat the cost of using more than the minimum number of nurses).\n",
    "\n",
    "<img src=\"clock.jpg\" width=800/>"
   ]
  },
  {
   "cell_type": "markdown",
   "metadata": {},
   "source": [
    "**Note:** You can download the repository containing this and other examples by clicking <a href=\"https://github.com/alberts96/A-nurse-scheduling-problem-solved-with-Gurobi/archive/master.zip\" download>here </a> In order to run this Jupyter Notebook properly, you must have a Gurobi license. If you do not have one, you can request an [evaluation license](https://www.gurobi.com/downloads/request-an-evaluation-license/?utm_source=Github&utm_medium=website_JupyterME&utm_campaign=CommercialDataScience) as a *commercial user*, or download a [free license](https://www.gurobi.com/academia/academic-program-and-licenses/?utm_source=Github&utm_medium=website_JupyterME&utm_campaign=AcademicDataScience) as an *academic user*."
   ]
  },
  {
   "cell_type": "code",
   "execution_count": 1,
   "metadata": {},
   "outputs": [],
   "source": [
    "# This command imports the Gurobi functions and classes.\n",
    "\n",
    "import gurobipy as gp       #this is package provided by Gurobi to model problems\n",
    "from gurobipy import GRB    #and interact with the solver\n",
    "#Manage the data \n",
    "import pandas as pd\n",
    "import numpy as np\n",
    "#Graphic tools\n",
    "import matplotlib\n",
    "import matplotlib.pyplot as plt"
   ]
  },
  {
   "cell_type": "markdown",
   "metadata": {},
   "source": [
    "\n",
    "\n",
    "## Mathematical Model\n",
    "The model is an oriented graph representation in which each activity is a node of the graph, connected each other if them can be performed consecutively.\n",
    "Every link has capacity 1 and the nurses are represented by the flow that moves in this network, they start from the source and come back to the source.\n",
    "Is a <b>3-index model</b> similar to the one typically used for the <b>vehicle routing problem</b>. "
   ]
  },
  {
   "cell_type": "code",
   "execution_count": 2,
   "metadata": {},
   "outputs": [
    {
     "name": "stdout",
     "output_type": "stream",
     "text": [
      "Using license file C:\\Users\\carlo\\gurobi.lic\n",
      "Academic license - for non-commercial use only\n"
     ]
    }
   ],
   "source": [
    "#INITIALIZATION OF THE MODEL\n",
    "# The Model() constructor creates a model object m. The name of the model object m is Nurses Scheduling\n",
    "m = None\n",
    "m = gp.Model('Nurses Scheduling')\n",
    "\n",
    "#READING DAT FROM CSV FILES\n",
    "activities = pd.read_csv(\"activities.csv\")\n",
    "nurses = pd.read_csv(\"nurses.csv\")"
   ]
  },
  {
   "cell_type": "markdown",
   "metadata": {},
   "source": [
    "## Data definition\n",
    "\n",
    "Input data are defined over the following sets:\n",
    "* <b>K</b> is the set of the nurses, two values are assigned to each nurse: level and maximum work time;\n",
    "* <b>A</b>is the set of the activities, each activity has three values: level, start time, end time;  \n",
    "* <b>I</b> is the super-set of <b>A</b>  united with the auxiliary activities 0 that has the function of source;\n",
    "* <b>W</b> is the maximum waiting time between two activities done by the same nurse.\n",
    "\n"
   ]
  },
  {
   "cell_type": "code",
   "execution_count": 3,
   "metadata": {},
   "outputs": [],
   "source": [
    "#SETS\n",
    "I = range(len(activities) + 1) #index for all the tasks more the source\n",
    "K = range(len(nurses)) #index for all the nurse\n",
    "A = I[1:]       #index for all tasks (source and thin are exclused)\n",
    "\n",
    "#PARAMETERS\n",
    "q = list(nurses['maxh'].copy())\n",
    "l = list(nurses['level'].copy())\n",
    "s = list(activities['start_time'].copy())\n",
    "t = list(activities['end_time'].copy())\n",
    "h = list(activities['hard'].copy())"
   ]
  },
  {
   "cell_type": "markdown",
   "metadata": {},
   "source": [
    "### Source\n",
    "For use the graph in a better and easiest way, a source and a thi are added at the sety of athe activities,rispectively as the first and the last one.\n",
    "\n",
    "Three main sets are defined:<ul> \n",
    "    <li><b>'K'</b> for the  <b>nurses</b></li>\n",
    "    <li><b>'A' </b>and <b>'I'</b> for the <b>activities</b></li>\n",
    "    </ul>\n",
    "    \n",
    "<b>N.B.</b>While 'A' contains all and only the activities 'I' contains also the source :<ul>\n",
    "    <li><b>I[0]</b> :   recall the <b>source</b></li>\n",
    "    <li><b>I[1:]</b>: recall all tasks</li>\n",
    "        </ul>"
   ]
  },
  {
   "cell_type": "code",
   "execution_count": 4,
   "metadata": {},
   "outputs": [],
   "source": [
    "#SOURCE\n",
    "s.insert(0,0)\n",
    "t.insert(0,0)\n",
    "h.insert(0,0)"
   ]
  },
  {
   "cell_type": "markdown",
   "metadata": {},
   "source": [
    "\n",
    "\n",
    "### Support Sets\n",
    "\n",
    "#### Backward star \\& forward star\n",
    "For each activity we defined his Backward Star and Forward Star, constraining the duration of the waiting time between two activity to be less than W.\n",
    "\n",
    "\n"
   ]
  },
  {
   "cell_type": "code",
   "execution_count": 5,
   "metadata": {},
   "outputs": [],
   "source": [
    "#defining the  backward star \n",
    "back=[]\n",
    "back.append([])  #source has an empty set as backward star\n",
    "for i in I[1:-1]:\n",
    "    backi=[0]\n",
    "    for j in I[1:-1]:\n",
    "        if (s[i]>=t[j] and s[i]-t[j]<=2):\n",
    "            backi.append(j)\n",
    "    back.append(backi)\n",
    "back.append([i for i in I[1:-1]]) #instead, tink has all other nodes except\n",
    "                                  # the source and itself\n",
    "#defining the forward star\n",
    "\n",
    "forward=[]\n",
    "forward.append([i for i in I[1:-1]])  #all tasks for the source\n",
    "for i in I[1:-1]:\n",
    "    forwardi=[I[-1]]\n",
    "    for j in I[1:-1]:\n",
    "        if (s[j]>=t[i] and s[j]-t[i]<=2):\n",
    "            forwardi.append(j)\n",
    "    forward.append(forwardi)\n",
    "forward.append([])  #empty forward for the thin\n"
   ]
  },
  {
   "cell_type": "markdown",
   "metadata": {},
   "source": [
    "\n",
    "\n",
    "#### Level compatible\n",
    "We defined support sets for activities and nurses. For each nurse a subset of activities that can be assigned to the nurse and vice-versa.\n",
    "\n"
   ]
  },
  {
   "cell_type": "code",
   "execution_count": 6,
   "metadata": {},
   "outputs": [],
   "source": [
    "#SUBSETS OF NURSES\n",
    "levelok = []\n",
    "levelok.append([k for k in K])\n",
    "for i in A:\n",
    "    levelokk = []\n",
    "    for k in K:\n",
    "        if l[k] >= h[i] : levelokk.append(k)\n",
    "    levelok.append(levelokk)\n",
    "levelok.append([k for k in K])\n",
    "KL = levelok.copy()\n",
    "\n",
    "#SUBSETS OF ACTIVITIES\n",
    "levelok = []\n",
    "for k in K:\n",
    "    levelokk = [0]\n",
    "    for i in A:\n",
    "        if l[k] >= h[i] : levelokk.append(i)\n",
    "    levelokk.append(I[-1])\n",
    "    levelok.append(levelokk)\n",
    "AL = levelok.copy()"
   ]
  },
  {
   "cell_type": "markdown",
   "metadata": {},
   "source": [
    "### Decision Variables\n",
    "We defined the binary variable:\n",
    "$x_{ij}^{k}$ that represent the transition of a nurse from a terminated activity to the next one (both assigned to a same nurse).\n"
   ]
  },
  {
   "cell_type": "code",
   "execution_count": 7,
   "metadata": {},
   "outputs": [],
   "source": [
    "#Only the necessary variables are instanciated\n",
    "variables = []\n",
    "for i in I:\n",
    "    for j in I:\n",
    "        if (s[j] >= t[i] and s[j] <= t[i]+2) or (i== 0 and j!= 0 )or ( i!=0 and j == 0) : # j in forward of i\n",
    "            for k in K:\n",
    "                if h[i] <= l[k] and h[j] <= l[k] and q[k]>= t[i] - s[i] + t[j] - s[j]: # k is able to do both i and j\n",
    "                    variables.append((i,j,k))\n",
    "                        \n",
    "X = m.addVars(variables, vtype=GRB.BINARY, name=\"x\")    #route variables\n",
    "\n",
    "\n",
    "df = pd.DataFrame(variables, columns = ['I', 'J', 'K'])"
   ]
  },
  {
   "cell_type": "markdown",
   "metadata": {},
   "source": [
    "###  Objectives\n",
    "* The main objective minimize the number of nurses working during the day by minimizing the sum of nurses leaving the node 0 (`Source').\n",
    "* The secondary minimize the total difference between the level of the nurse and the tasks in which are involved.\n",
    "\n",
    "\\begin{equation*}\n",
    "    \\begin{array}{lc}\n",
    "Primary: &  min \\sum\\limits_{i \\in A } \\hspace{0.07cm}\\sum\\limits_{k \\in KL(i) }  x_{0i}^k   \\\\\n",
    "\\\\\n",
    "Secondary: & min \\sum\\limits_{i \\in A} \\hspace{0.07cm}\\sum\\limits_{j \\in BS(i)} \\hspace{0.07cm} \\sum\\limits_{k \\in KL(i)\\cap KL(j)} x_{ji}^k \\hspace{0.07cm} (l_k - h_i)\n",
    "    \\end{array}\n",
    "\\end{equation*}\n",
    "\n",
    "\n",
    "Since the objectives <b> hierarchical</b>, we can solve the primary, set it as a constraint and then solve the second. Having a solution for the first problem, allow the solver to concentrate more in is solving the secondary one that is the hardest one.\n",
    "However Gurobi offers a hierachical objective instantiation."
   ]
  },
  {
   "cell_type": "code",
   "execution_count": 8,
   "metadata": {},
   "outputs": [],
   "source": [
    "#OBJECTIVE\n",
    "# The setObjectiveN() method of the model object m allows to define multiple objectives.\n",
    "# The first argument is the linear expression defining the most important objective, called primary objective, in this case \n",
    "# it is the minimization of extra workers required to satisfy shift requirements. The second argument is the index of the \n",
    "# objective function, we set the index of the primary objective to be equal to 0. The third argument is the priority of the \n",
    "# objective. The fourth argument is the relative tolerance to degrade this objective when a lower priority\n",
    "# objective is optimized. The fifth argument is the name of this objective.\n",
    "# A hierarchical or lexicographic approach assigns a priority to each objective, and optimizes for the objectives in \n",
    "# decreasing priority order. For this problem, we have two objectives, and this objective has the highest priority which is\n",
    "# equal to 2. When the secondary objective is minimized, since the relative tolerance is 0.2, we can only degrade the \n",
    "# minimum number of extra workers up to 20%. BUT IN OUR CASE MUST BE 0\n",
    "\n",
    "#main\n",
    "m.setObjectiveN(gp.quicksum(X[(i,j,k)]for (i,j,k) in df[df.I == 0].values),\n",
    "                index = 0,priority=2,name= 'number of working nurses')\n",
    "\n",
    "#secondary\n",
    "m.setObjectiveN( gp.quicksum(X[(i,j,k)]*(l[k]-h[i]) for (i,j,k) in df[df.I != 0].values),\n",
    "                index = 1, priority=1,name=\"skill not used\")\n",
    "\n",
    "m.ModelSense = gp.GRB.MINIMIZE"
   ]
  },
  {
   "cell_type": "markdown",
   "metadata": {},
   "source": [
    "### Constraints\n",
    "We defined 4 constraints:\n",
    "1. Each nurse doesn't exceed his maximum time of work;   \n",
    "2. Each activity is carried out by exactly one nurse;\n",
    "2. Each working nurse can exit from the source node exactly one time;\n",
    "4. If a nurse is not assigned to any activity it remains in the source, instead if the nurse is assigned to some activities, this constraint assures us that the nurse will exits from the source and will return to the source."
   ]
  },
  {
   "cell_type": "code",
   "execution_count": 9,
   "metadata": {},
   "outputs": [],
   "source": [
    "#COSTRAINTS\n",
    "#1 sum of time requests to work at the task to which a nurse is assigned can't be more than \n",
    "#   the max quantity of time \n",
    "for k in K :\n",
    "    m.addConstr(gp.quicksum(X[(i,j,k)]*(t[i]-s[i]) for (i,j,k) in df[(df.K == k)&(df.I!=0)].values) <= q[k] , name='maxhours')  \n",
    "\n",
    "#2) each activity must be assigned to exactly one nurse\n",
    "for i in A:\n",
    "    m.addConstr(gp.quicksum(X[(i,j,k)] for (i,j,k) in df[df.I==i].values) == 1 , name='Assignment')\n",
    "    m.addConstr(gp.quicksum(X[(j,i,k)] for (j,i,k) in df[df.J==i].values) == 1 , name='Assignment')\n",
    "\n",
    "#3) each activity, for each nurse, must have the same number of incoming arc and outgoing arcs\n",
    "#   and those must exists only if the task is assigned to that nurse\n",
    "for i in A:\n",
    "    for k in set(df[df.I==i].K.values):\n",
    "        m.addConstr(gp.quicksum(X[(i,j,k)] for (i,j,k) in df[(df.I==i)&(df.K==k)].values) == \n",
    "                    gp.quicksum(X[(j,i,k)] for (j,i,k) in df[(df.J==i)&(df.K==k)].values))\n",
    "\n",
    "#4) each nurse that go out from the source (start to work), must end his day at the thin\n",
    "for k in K :\n",
    "    m.addConstr(gp.quicksum(X[(i,j,k)] for (i,j,k) in df[(df.I==0)&(df.K==k)].values) == gp.quicksum(X[(i,j,k)] for (i,j,k) in df[(df.J==0)&(df.K==k)].values))\n",
    "    m.addConstr(gp.quicksum(X[(i,j,k)] for (i,j,k) in df[(df.I==0)&(df.K==k)].values)<=1)"
   ]
  },
  {
   "cell_type": "markdown",
   "metadata": {},
   "source": [
    "## Solving "
   ]
  },
  {
   "cell_type": "code",
   "execution_count": 10,
   "metadata": {},
   "outputs": [
    {
     "name": "stdout",
     "output_type": "stream",
     "text": [
      "Changed value of parameter TimeLimit to 300.0\n",
      "   Prev: inf  Min: 0.0  Max: inf  Default: inf\n",
      "Gurobi Optimizer version 9.0.1 build v9.0.1rc0 (win64)\n",
      "Optimize a model with 769 rows, 2017 columns and 8747 nonzeros\n",
      "Model fingerprint: 0xae5d746b\n",
      "Variable types: 0 continuous, 2017 integer (2017 binary)\n",
      "Coefficient statistics:\n",
      "  Matrix range     [1e+00, 4e+00]\n",
      "  Objective range  [1e+00, 2e+00]\n",
      "  Bounds range     [1e+00, 1e+00]\n",
      "  RHS range        [1e+00, 7e+00]\n",
      "\n",
      "---------------------------------------------------------------------------\n",
      "Multi-objectives: starting optimization with 2 objectives ... \n",
      "---------------------------------------------------------------------------\n",
      "\n",
      "Multi-objectives: applying initial presolve ...\n",
      "---------------------------------------------------------------------------\n",
      "\n",
      "Presolve removed 213 rows and 203 columns\n",
      "Presolve time: 0.06s\n",
      "Presolved: 556 rows and 1814 columns\n",
      "---------------------------------------------------------------------------\n",
      "\n",
      "Multi-objectives: optimize objective 1 (number of working ) ...\n",
      "---------------------------------------------------------------------------\n",
      "\n",
      "Presolve removed 87 rows and 109 columns\n",
      "Presolve time: 0.10s\n",
      "Presolved: 469 rows, 1705 columns, 7589 nonzeros\n",
      "Variable types: 0 continuous, 1705 integer (1705 binary)\n",
      "\n",
      "Root relaxation: objective 1.122222e+01, 695 iterations, 0.08 seconds\n",
      "\n",
      "    Nodes    |    Current Node    |     Objective Bounds      |     Work\n",
      " Expl Unexpl |  Obj  Depth IntInf | Incumbent    BestBd   Gap | It/Node Time\n",
      "\n",
      "     0     0   11.22222    0   94          -   11.22222      -     -    0s\n",
      "H    0     0                      23.0000000   11.22222  51.2%     -    0s\n",
      "H    0     0                      22.0000000   11.22222  49.0%     -    0s\n",
      "H    0     0                      21.0000000   11.22222  46.6%     -    0s\n",
      "H    0     0                      19.0000000   11.22222  40.9%     -    0s\n",
      "     0     0   11.84638    0  154   19.00000   11.84638  37.7%     -    0s\n",
      "H    0     0                      17.0000000   11.84638  30.3%     -    0s\n",
      "     0     0   12.22772    0  153   17.00000   12.22772  28.1%     -    0s\n",
      "     0     0   12.61755    0  164   17.00000   12.61755  25.8%     -    1s\n",
      "     0     0   12.61755    0  160   17.00000   12.61755  25.8%     -    1s\n",
      "     0     0   12.93296    0  150   17.00000   12.93296  23.9%     -    1s\n",
      "H    0     0                      16.0000000   12.93296  19.2%     -    1s\n",
      "     0     0   12.93296    0  145   16.00000   12.93296  19.2%     -    1s\n",
      "     0     0   12.96858    0  176   16.00000   12.96858  18.9%     -    1s\n",
      "     0     0   12.96858    0  172   16.00000   12.96858  18.9%     -    1s\n",
      "     0     0   12.97633    0  188   16.00000   12.97633  18.9%     -    1s\n",
      "     0     0   12.97633    0  149   16.00000   12.97633  18.9%     -    1s\n",
      "H    0     0                      15.0000000   12.97718  13.5%     -    1s\n",
      "     0     2   12.97718    0  148   15.00000   12.97718  13.5%     -    1s\n",
      "  1095   706   13.63333   34  149   15.00000   13.14659  12.4%  25.8    5s\n",
      "  1114   719   14.00000   13  197   15.00000   13.17988  12.1%  25.4   10s\n",
      "  1137   734   14.00000   37  197   15.00000   13.37508  10.8%  24.8   15s\n",
      "  1195   754     cutoff   22        15.00000   13.45266  10.3%  44.4   20s\n",
      "* 1373   712              33      14.0000000   13.49880  3.58%  56.2   23s\n",
      "\n",
      "Cutting planes:\n",
      "  Gomory: 32\n",
      "  Cover: 5\n",
      "  Implied bound: 19\n",
      "  Clique: 57\n",
      "  MIR: 52\n",
      "  StrongCG: 5\n",
      "  Flow cover: 39\n",
      "  Inf proof: 1\n",
      "  Zero half: 52\n",
      "  RLT: 10\n",
      "\n",
      "Explored 1387 nodes (81413 simplex iterations) in 23.59 seconds\n",
      "Thread count was 4 (of 4 available processors)\n",
      "\n",
      "Solution count 8: 14 15 16 ... 23\n",
      "\n",
      "Optimal solution found (tolerance 1.00e-04)\n",
      "Best objective 1.400000000000e+01, best bound 1.400000000000e+01, gap 0.0000%\n",
      "---------------------------------------------------------------------------\n",
      "\n",
      "Multi-objectives: optimize objective 2 (skill not used) ...\n",
      "---------------------------------------------------------------------------\n",
      "\n",
      "\n",
      "Loaded user MIP start with objective 10\n",
      "\n",
      "Presolve removed 73 rows and 97 columns\n",
      "Presolve time: 0.16s\n",
      "Presolved: 484 rows, 1717 columns, 8110 nonzeros\n",
      "Variable types: 0 continuous, 1717 integer (1717 binary)\n",
      "\n",
      "Root simplex log...\n",
      "\n",
      "Iteration    Objective       Primal Inf.    Dual Inf.      Time\n",
      "       0    0.0000000e+00   6.200000e+01   0.000000e+00     24s\n",
      "     524    5.0000000e+00   0.000000e+00   0.000000e+00     24s\n",
      "\n",
      "Root relaxation: objective 5.000000e+00, 524 iterations, 0.04 seconds\n",
      "\n",
      "    Nodes    |    Current Node    |     Objective Bounds      |     Work\n",
      " Expl Unexpl |  Obj  Depth IntInf | Incumbent    BestBd   Gap | It/Node Time\n",
      "\n",
      "     0     0    5.00000    0   30   10.00000    5.00000  50.0%     -   23s\n",
      "H    0     0                       9.0000000    5.00000  44.4%     -   24s\n",
      "H    0     0                       8.0000000    5.00000  37.5%     -   24s\n",
      "     0     0    5.00000    0   73    8.00000    5.00000  37.5%     -   24s\n",
      "     0     0    5.42500    0   70    8.00000    5.42500  32.2%     -   24s\n",
      "     0     0    5.62500    0   64    8.00000    5.62500  29.7%     -   24s\n",
      "     0     0    5.62500    0   24    8.00000    5.62500  29.7%     -   24s\n",
      "     0     0    5.62500    0  103    8.00000    5.62500  29.7%     -   24s\n",
      "     0     0    5.62500    0   95    8.00000    5.62500  29.7%     -   25s\n",
      "     0     0    5.64410    0  103    8.00000    5.64410  29.4%     -   25s\n",
      "     0     0    5.64410    0  108    8.00000    5.64410  29.4%     -   25s\n",
      "     0     0    5.69565    0   99    8.00000    5.69565  28.8%     -   25s\n",
      "     0     0    5.69565    0  114    8.00000    5.69565  28.8%     -   25s\n",
      "     0     0    5.69565    0  118    8.00000    5.69565  28.8%     -   25s\n",
      "     0     0    5.69565    0   82    8.00000    5.69565  28.8%     -   25s\n",
      "     0     2    5.71429    0   82    8.00000    5.71429  28.6%     -   25s\n",
      "\n",
      "Cutting planes:\n",
      "  Gomory: 5\n",
      "  Cover: 19\n",
      "  Implied bound: 15\n",
      "  Clique: 18\n",
      "  MIR: 9\n",
      "  StrongCG: 1\n",
      "  Inf proof: 7\n",
      "  Zero half: 15\n",
      "  RLT: 3\n",
      "\n",
      "Explored 1193 nodes (36402 simplex iterations) in 27.14 seconds\n",
      "Thread count was 4 (of 4 available processors)\n",
      "\n",
      "Solution count 3: 8 9 10 \n",
      "\n",
      "Optimal solution found (tolerance 1.00e-04)\n",
      "Best objective 8.000000000000e+00, best bound 8.000000000000e+00, gap 0.0000%\n",
      "\n",
      "---------------------------------------------------------------------------\n",
      "Multi-objectives: solved in 27.17 seconds, solution count 10\n",
      "\n"
     ]
    }
   ],
   "source": [
    "m.params.TimeLimit = 300 #setting a time limit of 300 seconds\n",
    "m.optimize()"
   ]
  },
  {
   "cell_type": "markdown",
   "metadata": {},
   "source": [
    "## Visualize the solution "
   ]
  },
  {
   "cell_type": "markdown",
   "metadata": {},
   "source": [
    "<img src=\"gantt.png\" width=800/>"
   ]
  },
  {
   "cell_type": "code",
   "execution_count": null,
   "metadata": {},
   "outputs": [],
   "source": []
  }
 ],
 "metadata": {
  "kernelspec": {
   "display_name": "Python 3",
   "language": "python",
   "name": "python3"
  },
  "language_info": {
   "codemirror_mode": {
    "name": "ipython",
    "version": 3
   },
   "file_extension": ".py",
   "mimetype": "text/x-python",
   "name": "python",
   "nbconvert_exporter": "python",
   "pygments_lexer": "ipython3",
   "version": "3.7.4"
  }
 },
 "nbformat": 4,
 "nbformat_minor": 2
}
