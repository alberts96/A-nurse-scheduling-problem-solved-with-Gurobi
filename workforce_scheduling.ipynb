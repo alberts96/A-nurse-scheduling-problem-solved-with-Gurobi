{
 "cells": [
  {
   "cell_type": "markdown",
   "metadata": {},
   "source": [
    "# Nurse Scheduling Problem\n",
    "\n",
    "**Note:** You can download the repository containing this example [here](https://github.com/alberts96/A nurse scheduling problem solved with Gurobi/master.zip). In order to run this Jupyter Notebook properly, you must have a Gurobi license. If you do not have one, you can request an [evaluation license](https://www.gurobi.com/downloads/request-an-evaluation-license/?utm_source=Github&utm_medium=website_JupyterME&utm_campaign=CommercialDataScience) as a *commercial user*, or download a [free license](https://www.gurobi.com/academia/academic-program-and-licenses/?utm_source=Github&utm_medium=website_JupyterME&utm_campaign=AcademicDataScience) as an *academic user*.\n",
    "\n",
    "## Problem Description\n",
    "\n",
    "A large hospital has to cover a set of day-care activities with the available nurses.Each nurse can perform different subsets of the activities, which are implicitly definedby time and skill constraints.  In particular, for each activity the starting time andthe ending time are given, so it is known whether or not it is possible for the samenurse to perform both in sequence (it is assumed that it takes a short enough timeto move across the hospital so that this can be ignored).  Furthermore, nurses can beof three skill levels (beginner, intermediate, advanced), and each activity is markedwith the required skill level:  only nurses with the required skill, or one above, canperform it.  Union regulations dictate the maximum working time (sum of the timeshe’s performing activities) for each nurse; furthermore, nurses can’t be left waitingfor more that a given period (say, two hours) between subsequent activities.  Giventhe available number of nurses with each skill level, the problem is to assign a feasibleset of duties to the smallest possible number of nurses in order to have each activityperformed by exactly one of them.  Among solutions with the same number of nurses,these where less nurses perform activities requiring a skill level below their own arepreferred; the more the skill level is below, the more this should be avoided (but notat the cost of using more than the minimum number of nurses).\n",
    "![alt text](clock.jpg \"Example\")\n",
    "\n",
    "\n",
    "\n",
    "\n",
    "\n",
    "\n",
    "\n",
    "\n",
    "### Objective Function\n",
    "We want to minimize the number of nurses working during that day, so we have to minimize the sum of $x_{0i}^n$.\n",
    "\\begin{equation*}\n",
    "    \\begin{array}{lc}\n",
    "Objective: &  min \\sum\\limits_{i \\in A } \\hspace{0.07cm}\\sum\\limits_{n \\in KL(i) }  x_{0i}^k  +  \\frac{\\sum\\limits_{i \\in A} \\hspace{0.07cm}\\sum\\limits_{j \\in BS(i)} \\hspace{0.07cm} \\sum\\limits_{k \\in KL(i)\\cap KL(j)} x_{ji}^k \\hspace{0.07cm} (l_k - h_i) }{ |A | \\hspace{0.07cm} 2} \\\\\n",
    "    \\end{array}\n",
    "\\end{equation*}\n",
    "\n",
    "As a secondary objective, we want to minimize the gap between the levels of activities and the nurse assigned to each of them. So, we calculate the relative gap for each nurse and normalize the sum, such that the function has values between [0,1) for each admissible solution.\\textbf{ We used two times the cardinality of the activities set as denominator.}\n",
    "\n",
    "\n",
    "\n",
    "\n",
    "\n",
    "\n",
    "## What You Will Learn\n",
    "- You will learn how to formulate the workforce scheduling problem as a mixed integer programming (MIP) problem using the Gurobi Python API.\n",
    "- The workforce scheduling problem is formulated as a multi-objective MIP, consequently you will learn how to configure the model objective method \"Model.setObjectiveN()\" that allows to handle multiple objectives hierarchically."
   ]
  },
  {
   "cell_type": "code",
   "execution_count": 7,
   "metadata": {},
   "outputs": [],
   "source": [
    "# This command imports the Gurobi functions and classes.\n",
    "\n",
    "import gurobipy as gp       #this is package provided by Gurobi to model problems\n",
    "from gurobipy import GRB    #and interact with the solver\n",
    "#Manage the data \n",
    "import pandas as pd\n",
    "import numpy as np\n",
    "#Graphic tools\n",
    "import matplotlib\n",
    "import matplotlib.pyplot as plt"
   ]
  },
  {
   "cell_type": "markdown",
   "metadata": {},
   "source": [
    "\n",
    "\n",
    "## Mathematical Model\n",
    "The model is an oriented graph representation in which each activity is a node of the graph, connected each other if them can be performed consecutively.\n",
    "Every link has capacity 1 and the nurses are represented by the flow that moves in this network, they start from the source and come back to the source.\n",
    "Is a <b>3-index model</b> similar to the one typically used for the <b>vehicle routing problem</b>. "
   ]
  },
  {
   "cell_type": "code",
   "execution_count": 8,
   "metadata": {},
   "outputs": [],
   "source": [
    "#INITIALIZATION OF THE MODEL\n",
    "# The Model() constructor creates a model object m. The name of the model object m is Nurses Scheduling\n",
    "m = None\n",
    "m = gp.Model('Nurses Scheduling')\n",
    "\n",
    "#READING DAT FROM CSV FILES\n",
    "activities = pd.read_csv(\"activities.csv\")\n",
    "nurses = pd.read_csv(\"nurses.csv\")"
   ]
  },
  {
   "cell_type": "markdown",
   "metadata": {},
   "source": [
    "## Data definition\n",
    "\n",
    "Input data are defined over the following sets:\n",
    "* <b>K</b> is the set of the nurses, two values are assigned to each nurse: level and maximum work time;\n",
    "* <b>A</b>is the set of the activities, each activity has three values: level, start time, end time;  \n",
    "* <b>I</b> is the super-set of <b>A</b>  united with the auxiliary activities 0 that has the function of source;\n",
    "* $W$ is the maximum waiting time between two activities done by the same nurse.\n",
    "\n",
    "\\begin{equation*}\n",
    "    \\begin{array}{lr}\n",
    "    \\boldsymbol{K}\\hspace{0.1cm} set\\hspace{0.1cm} of\\hspace{0.1cm} nurses, & |\\boldsymbol{K}| =: K  \\\\\n",
    "    \\hspace{0.3cm} l_k \\hspace{0.1cm}level\\hspace{0.1cm} of\\hspace{0.1cm} nurse\\hspace{0.1cm} k:  & l_k \\in \\{ 1,2,3 \\},\\hspace{0.1cm} \\forall k \\in \\boldsymbol{K} \\\\\n",
    "    \\hspace{0.3cm}m_k \\hspace{0.1cm} maximum\\hspace{0.1cm} work\\hspace{0.1cm}time\\hspace{0.1cm} for\\hspace{0.1cm} nurse\\hspace{0.1cm} k: & m_k \\in \\mathbb{N},\\hspace{0.1cm} \\forall k \\in \\boldsymbol{K}\\\\\n",
    "    \\boldsymbol{A}\\hspace{0.1cm}set \\hspace{0.1cm} of \\hspace{0.1cm} activities, & |\\boldsymbol{A}| =: A\\\\\n",
    "    \\hspace{0.3cm} h_i \\hspace{0.1cm}level\\hspace{0.1cm} of\\hspace{0.1cm} activity\\hspace{0.1cm} i:  & h_i \\in \\{ 1,2,3 \\},\\hspace{0.1cm} \\forall i \\in \\boldsymbol{A} \\\\\n",
    "    \\hspace{0.3cm} s_i \\hspace{0.1cm} start \\hspace{0.1cm}time\\hspace{0.1cm} for\\hspace{0.1cm} activity\\hspace{0.1cm} i: & s_i \\in [0,24],\\hspace{0.1cm} \\forall i \\in \\boldsymbol{A}\\\\\n",
    "    \\hspace{0.3cm} t_i \\hspace{0.1cm} end \\hspace{0.1cm}time\\hspace{0.1cm} for\\hspace{0.1cm} activity\\hspace{0.1cm} i: & t_i\\in [0,24],\\hspace{0.1cm} \\forall i \\in \\boldsymbol{A}\\\\\n",
    "    \\boldsymbol{I} := \\boldsymbol{A} \\cup \\{0\\}, activities, source\\&thin \\\\\n",
    "    W \\hspace{0.11cm} maximum \\hspace{0.1cm} waiting\\hspace{0.1cm} time \\hspace{0.1cm} (parameter), & W \\in \\mathbb{N}\n",
    "    \\end{array}\n",
    "\\end{equation*}"
   ]
  },
  {
   "cell_type": "code",
   "execution_count": 13,
   "metadata": {},
   "outputs": [],
   "source": [
    "#SETS\n",
    "I = range(len(activities) + 1) #index for all the tasks more the source\n",
    "K = range(len(nurses)) #index for all the nurse\n",
    "A = I[1:]       #index for all tasks (source and thin are exclused)\n",
    "\n",
    "#PARAMETERS\n",
    "maxh = list(nurses['maxh'].copy())\n",
    "l = list(nurses['level'].copy())\n",
    "s = list(activities['start_time'].copy())\n",
    "t = list(activities['end_time'].copy())\n",
    "h = list(activities['hard'].copy())"
   ]
  },
  {
   "cell_type": "markdown",
   "metadata": {},
   "source": [
    "### Source\n",
    "For use the graph in a better and easiest way, a source and a thi are added at the sety of athe activities,rispectively as the first and the last one.\n",
    "\n",
    "Three main sets are defined:<ul> \n",
    "    <li><b>'K'</b> for the  <b>nurses</b></li>\n",
    "    <li><b>'A' </b>and <b>'I'</b> for the <b>activities</b></li>\n",
    "    </ul>\n",
    "    \n",
    "<b>N.B.</b>While 'A' contains all and only the activities 'I' contains also the source :<ul>\n",
    "    <li><b>I[0]</b> :   recall the <b>source</b></li>\n",
    "    <li><b>I[1:]</b>: recall all tasks</li>\n",
    "        </ul>"
   ]
  },
  {
   "cell_type": "code",
   "execution_count": 14,
   "metadata": {},
   "outputs": [],
   "source": [
    "#SOURCE\n",
    "s.insert(0,0)\n",
    "t.insert(0,0)\n",
    "h.insert(0,0)"
   ]
  },
  {
   "cell_type": "markdown",
   "metadata": {},
   "source": [
    "\n",
    "\n",
    "### Support Sets\n",
    "\n",
    "#### Backward star \\& forward star\n",
    "For each activity we defined his Backward Star and Forward Star, constraining the duration of the waiting time between two activity to be less than $W$.\n",
    "\n",
    "\\begin{equation*}\n",
    "    \\begin{array}{lc}\n",
    "    BS(i) := \\{j \\in \\boldsymbol{A} \\hspace{0.05cm} |\\hspace{0.05cm} s_i - e_j \\in [0,W]\\} \\cup \\{0\\} \\subseteq \\boldsymbol{I},   &  \\forall i \\in \\boldsymbol{A} \\\\\n",
    "    FS(i) := \\{j \\in \\boldsymbol{A}\\hspace{0.05cm} |\\hspace{0.05cm} s_j - t_i \\in [0,W]\\} \\cup \\{0\\} \\subseteq \\boldsymbol{I},  &  \\forall i \\in \\boldsymbol{A} \\\\\n",
    "    BS(0) \\equiv FS(0) \\equiv \\boldsymbol{A} \\\\\n",
    "    \\end{array}\n",
    "\\end{equation*}\n"
   ]
  },
  {
   "cell_type": "code",
   "execution_count": 15,
   "metadata": {},
   "outputs": [],
   "source": [
    "#defining the  backward star \n",
    "back=[]\n",
    "back.append([])  #source has an empty set as backward star\n",
    "for i in I[1:-1]:\n",
    "    backi=[0]\n",
    "    for j in I[1:-1]:\n",
    "        if (s[i]>=t[j] and s[i]-t[j]<=2):\n",
    "            backi.append(j)\n",
    "    back.append(backi)\n",
    "back.append([i for i in I[1:-1]]) #instead, tink has all other nodes except\n",
    "                                  # the source and itself\n",
    "#defining the forward star\n",
    "\n",
    "forward=[]\n",
    "forward.append([i for i in I[1:-1]])  #all tasks for the source\n",
    "for i in I[1:-1]:\n",
    "    forwardi=[I[-1]]\n",
    "    for j in I[1:-1]:\n",
    "        if (s[j]>=t[i] and s[j]-t[i]<=2):\n",
    "            forwardi.append(j)\n",
    "    forward.append(forwardi)\n",
    "forward.append([])  #empty forward for the thin\n"
   ]
  },
  {
   "cell_type": "markdown",
   "metadata": {},
   "source": [
    "\n",
    "\n",
    "#### Level compatible\n",
    "We defined support sets for activities and nurses. For each nurse a subset of activities that can be assigned to the nurse and vice-versa.\n",
    "\n",
    "\\begin{equation*}\n",
    "    \\begin{array}{lc}\n",
    "    KL(i) := \\{k \\in \\boldsymbol{K} \\hspace{0.05cm} |\\hspace{0.05cm} l_k >= h_i \\} \\forall i \\in \\boldsymbol{A}\n",
    "    \\end{array}\n",
    "\\end{equation*}\n",
    "\\begin{equation*}\n",
    "    \\begin{array}{lc}\n",
    "    AL(i) := \\{i \\in \\boldsymbol{A} \\hspace{0.05cm} |\\hspace{0.05cm} l_k >= h_i \\} \\forall k \\in \\boldsymbol{K}\n",
    "    \\end{array}\n",
    "\\end{equation*}"
   ]
  },
  {
   "cell_type": "code",
   "execution_count": 16,
   "metadata": {},
   "outputs": [],
   "source": [
    "#SUBSETS OF NURSES\n",
    "levelok = []\n",
    "levelok.append([k for k in K])\n",
    "for i in A:\n",
    "    levelokk = []\n",
    "    for k in K:\n",
    "        if l[k] >= h[i] : levelokk.append(k)\n",
    "    levelok.append(levelokk)\n",
    "levelok.append([k for k in K])\n",
    "KL = levelok.copy()\n",
    "\n",
    "#SUBSETS OF ACTIVITIES\n",
    "levelok = []\n",
    "for k in K:\n",
    "    levelokk = [0]\n",
    "    for i in A:\n",
    "        if l[k] >= h[i] : levelokk.append(i)\n",
    "    levelokk.append(I[-1])\n",
    "    levelok.append(levelokk)\n",
    "AL = levelok.copy()"
   ]
  },
  {
   "cell_type": "markdown",
   "metadata": {},
   "source": [
    "### Decision Variables\n",
    "We defined the binary variable:\n",
    "$x_{ij}^{k}$ that represent the transition of a nurse from a terminated activity to the next one (both assigned to a same nurse).\n",
    "\\begin{equation*}\n",
    "\\begin{array}{l}\n",
    "x_{ij}^k = \n",
    "    \\begin{cases}\n",
    "    1 ,\\hspace{0.07cm} if \\hspace{0.07cm} i \\hspace{0.07cm} and \\hspace{0.07cm} j \\hspace{0.07cm} are \\hspace{0.07cm} assigned \\hspace{0.07cm} to \\hspace{0.09cm} the \\hspace{0.07cm} same \\hspace{0.07cm}nurse \\hspace{0.07cm} n\\\\\n",
    "    0 ,\\hspace{0.07cm} otherwise\n",
    "    \\end{cases} \\\\ \\\\ \\forall i\\in \\boldsymbol{I}, \\forall j \\in FS(i), \\forall k \\in KL(i)\\cap KL(j) \\boldsymbol{K}\n",
    "    \\end{array}\n",
    "\\end{equation*}\n"
   ]
  },
  {
   "cell_type": "code",
   "execution_count": null,
   "metadata": {},
   "outputs": [],
   "source": [
    "#Only the necessary variables are instanciated\n",
    "variables = []\n",
    "    for i in I:\n",
    "        for j in I:\n",
    "            if (s[j] >= t[i] and s[j] <= t[i]+2) or (i== 0 and j!= 0 )or ( i!=0 and j == 0) : # j in forward of i\n",
    "                for k in K:\n",
    "                    if h[i] <= l[k] and h[j] <= l[k] and q[k]>= t[i] - s[i] + t[j] - s[j]: # k is able to do both i and j\n",
    "                        variables.append((i,j,k))\n",
    "                        \n",
    "X = m.addVars(variables, vtype=GRB.BINARY, name=\"x\")    #route variables"
   ]
  },
  {
   "cell_type": "code",
   "execution_count": null,
   "metadata": {},
   "outputs": [],
   "source": []
  },
  {
   "cell_type": "markdown",
   "metadata": {},
   "source": [
    "###  Objectives\n",
    "* The main objective minimize the number of nurses working during the day by minimizing the sum of nurses leaving the node 0 (`Source').\n",
    "* The secondary minimize the total difference between the level of the nurse and the tasks in which are involved.\n",
    "\n",
    "\\begin{equation*}\n",
    "    \\begin{array}{lc}\n",
    "Primary: &  min \\sum\\limits_{i \\in A } \\hspace{0.07cm}\\sum\\limits_{k \\in KL(i) }  x_{0i}^k   \\\\\n",
    "\\\\\n",
    "Secondary: & min \\sum\\limits_{i \\in A} \\hspace{0.07cm}\\sum\\limits_{j \\in BS(i)} \\hspace{0.07cm} \\sum\\limits_{k \\in KL(i)\\cap KL(j)} x_{ji}^k \\hspace{0.07cm} (l_k - h_i)\n",
    "    \\end{array}\n",
    "\\end{equation*}\n",
    "\n",
    "\n",
    "Since the objectives <b> hierarchical</b>, we can solve the primary, set it as a constraint and then solve the second. Having a solution for the first problem, allow the solver to concentrate more in is solving the secondary one that is the hardest one.\n",
    "However Gurobi offers a hierachical objective instantiation."
   ]
  },
  {
   "cell_type": "code",
   "execution_count": null,
   "metadata": {},
   "outputs": [],
   "source": []
  },
  {
   "cell_type": "markdown",
   "metadata": {},
   "source": [
    "### Constraints\n",
    "We defined 4 constraints:\n",
    "1. Each nurse doesn't exceed his maximum time of work;   \n",
    "2. Each activity is carried out by exactly one nurse;\n",
    "2. Each working nurse can exit from the source node exactly one time;\n",
    "4. If a nurse is not assigned to any activity it remains in the source, instead if the nurse is assigned to some activities, this constraint assures us that the nurse will exits from the source and will return to the source.\n",
    "\n",
    "\\begin{equation*}\n",
    "    \\begin{array}{llll}\\\\\n",
    " 1) &  \\sum\\limits_{j\\in FS(i)}\\hspace{0.07cm} \\sum\\limits_{k \\in KL(i)\\cap KL(j)}  x_{ij}^k = 1,  & \\forall i \\in \\boldsymbol{A}  &  \n",
    "\\\\ &  \\sum\\limits_{j\\in BS(i)}\\hspace{0.07cm} \\sum\\limits_{n \\in KL(i)\\cap KL(j)}  x_{ij}^k = 1,  & \\forall i \\in \\boldsymbol{A}  &\n",
    "\\\\ \\\\\n",
    " 2) &   \\sum\\limits_{\\substack{i \\in AL(k)}} \\hspace{0.07cm} \\sum\\limits_{j \\in BS(i)\\cap AL(k) } \n",
    "x_{ji}^k (t_i - s_i) \\leq m_k, &  & \\forall k \\in \\boldsymbol{K} \n",
    "\\\\ \\\\\n",
    "3) &  \\sum\\limits_{j \\in FS(i)\\cap AL(k)} x_{ij}^k = \\sum\\limits_{j \\in BS(i)\\cap AL(k)} x_{ji}^k,  & \\forall i \\in \\boldsymbol{A}, & \\forall k \\in \\boldsymbol{KL( i )} \n",
    "\\\\ \\\\\n",
    "4) & \\sum\\limits_{i \\in AL(k)} x_{0i}^k =  \\sum\\limits_{i \\in AL(k)} x_{i0}^k. &  & \\forall k \\in \\boldsymbol{K}\n",
    "\\\\ &   \\sum\\limits_{i \\in AL(k)} x_{0i}^k \\leq 1,  &  & \\forall k \\in \\boldsymbol{K}\n",
    "\\end{array}\n",
    "\\end{equation*}"
   ]
  },
  {
   "cell_type": "code",
   "execution_count": 6,
   "metadata": {},
   "outputs": [],
   "source": [
    "# Initialize assignment decision variables.\n",
    "# x[w][s] == 1 if worker w is assigned to shift s, and 0 otherwise.\n",
    "# The addVar() method adds decision variables to the model object m, and returns a Gurobi tupledict \n",
    "# object (x) that contains the variables recently created. The first argument (availability) provides \n",
    "# the keys to access the variables in the returned tupledict. Recall that (availability) is a tuple \n",
    "# list that defines if an employed worker is available to work a shift.\n",
    "# The argument vtype defines the type of decision variables. GRB.BINARY means that the assignmnet\n",
    "# variables x are binary. The argumment name is the name of the decision variable.\n",
    "x = m.addVars(availability, vtype=GRB.BINARY, name=\"x\")"
   ]
  },
  {
   "cell_type": "code",
   "execution_count": 7,
   "metadata": {},
   "outputs": [],
   "source": [
    "# Slack decision variables determine the number of extra workers required to satisfy the requirements \n",
    "# of each shift\n",
    "slacks = m.addVars(shifts, name=\"Slack\")"
   ]
  },
  {
   "cell_type": "code",
   "execution_count": 8,
   "metadata": {},
   "outputs": [],
   "source": [
    "# Auxiliary variable totSlack to represent the total number of extra workers required to satisfy the \n",
    "# requirements of all the shifts.\n",
    "totSlack = m.addVar(name='totSlack')"
   ]
  },
  {
   "cell_type": "code",
   "execution_count": 9,
   "metadata": {},
   "outputs": [],
   "source": [
    "# Auxiliary variable totShifts counts the total shifts worked by each employed worker\n",
    "totShifts = m.addVars(workers, name=\"TotShifts\")"
   ]
  },
  {
   "cell_type": "markdown",
   "metadata": {},
   "source": [
    "$$\\sum_{w \\: \\in \\: workers} x(w,s) \\; + \\; Slack(s) \\; = \\; shiftRequirements(s) \\; \\; \\; \\forall \\; s \\in shifts $$"
   ]
  },
  {
   "cell_type": "code",
   "execution_count": 10,
   "metadata": {},
   "outputs": [],
   "source": [
    "# Constraint: All shifts requirements most be satisfied.\n",
    "# The addConstrs() method adds multiple constraints to the model object m using a Python generator \n",
    "# expression.\n",
    "# This method returns a Gurobi tupledict that contains the newly created constraints, indexed by \n",
    "# the values generated by the generator expression. \n",
    "# The first argument of this method is a generator expression, where each iteration produces a \n",
    "# constraint. \n",
    "# The second argument is the name of the constraints, and the given name will be subscripted by the \n",
    "# index of the generator expresion. \n",
    "# This method returns a Gurobi tupledict object that contains the constraints recently created,\n",
    "# indexed by the values specified by the generator.\n",
    "# The assignment variables (x) are defined over the tupledict (availability), therefore we can use \n",
    "# x.sum() to create a linear expression that captures the sum of the variables in the tupledict. \n",
    "# The expression x.sum(*,s) means the sum of the assignment variables (x) over the set (workers). \n",
    "# We add the variable (slack) in case we don't have enough employed workers to satisfy. \n",
    "# These are equality constraints defined by ==. In the left hand side of the constraint we have\n",
    "# the shift requirements for each shift s in the set of (shifts). \n",
    "# The name of these constriants is (shiftRequirements).\n",
    "m.addConstrs((x.sum('*',s) + slacks[s] == shiftRequirements[s] for s in shifts), name='shiftRequirement')\n",
    "m.update()"
   ]
  },
  {
   "cell_type": "markdown",
   "metadata": {},
   "source": [
    "$$ \\sum_{s \\: \\in \\: shifts} Slack(s) \\; = \\; totSlack  $$"
   ]
  },
  {
   "cell_type": "code",
   "execution_count": 11,
   "metadata": {},
   "outputs": [],
   "source": [
    "# Constraint: set the auxiliary variable (totSlack) equal to the total number of extra workers \n",
    "# required to satisfy shift requirements\n",
    "m.addConstr(totSlack == slacks.sum(), name='totSlack')\n",
    "m.update()"
   ]
  },
  {
   "cell_type": "markdown",
   "metadata": {},
   "source": [
    "$$\\sum_{s \\: \\in \\: shifts} x(w,s) \\; = \\; totShifts(w) \\; \\; \\forall \\ w \\; in \\; workers$$"
   ]
  },
  {
   "cell_type": "code",
   "execution_count": 12,
   "metadata": {},
   "outputs": [],
   "source": [
    "# Constraint: compute the total number of shifts for each worker\n",
    "m.addConstrs((totShifts[w] == x.sum(w,'*') for w in workers), name='totShifts')\n",
    "m.update()"
   ]
  },
  {
   "cell_type": "markdown",
   "metadata": {},
   "source": [
    "The variable $minShift$ determines the minimum numbers of shifts allocated to workers. This variable is calculated as follows:\n",
    "$minShift = Min \\{totShifts(w): \\ w \\; in \\; workers \\} $\n",
    "\n",
    "The variable $maxShift$ determines the maximum numbers of shifts allocated to workers. This variable is calculated as follows:\n",
    "$maxShift = Max \\{totShifts(w): \\ w \\; in \\; workers \\} $"
   ]
  },
  {
   "cell_type": "code",
   "execution_count": 13,
   "metadata": {},
   "outputs": [],
   "source": [
    "# Auxiliary variables. \n",
    "# minShift is the minimum number of shifts allocated to workers \n",
    "# maxShift is the maximum number of shifts allocated to workers\n",
    "minShift = m.addVar(name='minShift')\n",
    "maxShift = m.addVar(name='maxShift')\n",
    "# Constraint: The addGenConstrMin() method of the model object m adds a new general constraint that \n",
    "# determines the minimum value among a set of variables. \n",
    "# The first argument is the variable whose value will be equal to the minimum of the other variables, \n",
    "# minShift in this case. \n",
    "# The second argument is the set variables over which the minimum will be taken, (totShifts) in \n",
    "# this case. \n",
    "# Recall that the totShifts variable is defined over the set of worker and determines the number of \n",
    "# shifts that an employed worker will work. The third argument is the name of this constraint.\n",
    "m.addGenConstrMin(minShift, totShifts, name='minShift')\n",
    "# Constraint: Similarly, the addGenConstrMax() method of the model object m adds a new general \n",
    "# constraint that determines the maximum value among a set of variables.\n",
    "m.addGenConstrMax(maxShift, totShifts, name='maxShift')\n",
    "m.update()"
   ]
  },
  {
   "cell_type": "markdown",
   "metadata": {},
   "source": [
    "We have a primary and a secondary objective both are to minimize"
   ]
  },
  {
   "cell_type": "code",
   "execution_count": 14,
   "metadata": {},
   "outputs": [],
   "source": [
    "# Set global sense for ALL objectives.\n",
    "# This means that all objectives of the model object m are going to be minimized\n",
    "m.ModelSense = GRB.MINIMIZE"
   ]
  },
  {
   "cell_type": "markdown",
   "metadata": {},
   "source": [
    "The primary objective is to minimize the total number of extra workers required to satisfy shift requirements. \n",
    "$$\n",
    "Min \\; totSlack \\; = \\; \\sum_{s \\: \\in \\: shifts} Slack(s) \n",
    "$$\n",
    "\n",
    "For this objective we allow a degradation tolerance of up to certain percentage. If reltol = 0.2, then we allow a degradation\n",
    "tolerance of 20%. "
   ]
  },
  {
   "cell_type": "code",
   "execution_count": 15,
   "metadata": {},
   "outputs": [],
   "source": [
    "# Set up primary objective.\n",
    "# The setObjectiveN() method of the model object m allows to define multiple objectives.\n",
    "# The first argument is the linear expression defining the most important objective, called primary \n",
    "# objective, in this case it is the minimization of extra workers required to satisfy shift \n",
    "# requirements. \n",
    "# The second argument is the index of the objective function, we set the index of the primary \n",
    "# objective to be equal to 0. \n",
    "# The third argument is the priority of the objective.\n",
    "# The fourth argument is the relative tolerance to degrade this objective when a lower priority\n",
    "# objective is optimized. The fifth argument is the name of this objective.\n",
    "# A hierarchical or lexicographic approach assigns a priority to each objective, and optimizes \n",
    "# for the objectives in decreasing priority order. \n",
    "# For this problem, we have two objectives, and the primary objective has the highest priority \n",
    "# which is equal to 2. \n",
    "# When the secondary objective is minimized, since the relative tolerance is 0.2, we can only \n",
    "# increase the minimum number of extra workers up to 20%. \n",
    "# For example if the minimum number extra workers is 10, then when optimizing the secondary objective \n",
    "# we can have up to 12 extra workers.\n",
    "m.setObjectiveN(totSlack, index=0, priority=2, reltol=0.2, name='TotalSlack')"
   ]
  },
  {
   "cell_type": "markdown",
   "metadata": {},
   "source": [
    "The secondary objective is to balance workload among workers, to do so we minimize the difference between the maximum \n",
    "number of shifts allocated to a worker, and the minimum number of shifts allocated to a worker. That is\n",
    "$$\n",
    "Min \\; maxShift \\; - \\; minShift \n",
    "$$ "
   ]
  },
  {
   "cell_type": "code",
   "execution_count": 16,
   "metadata": {},
   "outputs": [],
   "source": [
    "# Set up secondary objective\n",
    "# The secondary objective is called fairness and its goal is to balance the workload assigned \n",
    "# to the employed workers. \n",
    "# To balance the workload assigned to the employed workers, we can minimimze the difference \n",
    "# between the maximum number of shifts assigned to an employed worker and the minimum number \n",
    "# of shifts assigned to an employed worker.\n",
    "m.setObjectiveN(maxShift - minShift, index=1, priority=1, name='Fairness')"
   ]
  },
  {
   "cell_type": "code",
   "execution_count": 17,
   "metadata": {},
   "outputs": [],
   "source": [
    "# Save model formulation for inspection\n",
    "# The write() method of the model object m writes the MIP formulation into the file workforce.lp\n",
    "# The file workforce.lp contains the MIP formulation that Gurobi has in memory.\n",
    "# This file is very helpful for debugging purposes.\n",
    "m.write('workforce.lp')"
   ]
  },
  {
   "cell_type": "code",
   "execution_count": 18,
   "metadata": {},
   "outputs": [
    {
     "name": "stdout",
     "output_type": "stream",
     "text": [
      "Optimize a model with 22 rows, 96 columns and 180 nonzeros\n",
      "Model has 2 general constraints\n",
      "Variable types: 24 continuous, 72 integer (72 binary)\n",
      "Coefficient statistics:\n",
      "  Matrix range     [1e+00, 1e+00]\n",
      "  Objective range  [1e+00, 1e+00]\n",
      "  Bounds range     [1e+00, 1e+00]\n",
      "  RHS range        [2e+00, 7e+00]\n",
      "\n",
      "---------------------------------------------------------------------------\n",
      "Multi-objectives: starting optimization with 2 objectives ... \n",
      "---------------------------------------------------------------------------\n",
      "\n",
      "Multi-objectives: applying initial presolve ...\n",
      "---------------------------------------------------------------------------\n",
      "\n",
      "Presolve added 10 rows and 22 columns\n",
      "Presolve time: 0.00s\n",
      "Presolved: 32 rows and 118 columns\n",
      "---------------------------------------------------------------------------\n",
      "\n",
      "Multi-objectives: optimize objective 1 (TotalSlack) ...\n",
      "---------------------------------------------------------------------------\n",
      "\n",
      "Presolve added 7 rows and 0 columns\n",
      "Presolve removed 0 rows and 24 columns\n",
      "Presolve time: 0.00s\n",
      "Presolved: 39 rows, 94 columns, 184 nonzeros\n",
      "Presolved model has 7 SOS constraint(s)\n",
      "Variable types: 16 continuous, 78 integer (64 binary)\n",
      "Found heuristic solution: objective 11.0000000\n",
      "Found heuristic solution: objective 6.0000000\n",
      "\n",
      "Root relaxation: cutoff, 0 iterations, 0.00 seconds\n",
      "\n",
      "Explored 0 nodes (0 simplex iterations) in 0.02 seconds\n",
      "Thread count was 8 (of 8 available processors)\n",
      "\n",
      "Solution count 2: 6 11 \n",
      "\n",
      "Optimal solution found (tolerance 1.00e-04)\n",
      "Best objective 6.000000000000e+00, best bound 6.000000000000e+00, gap 0.0000%\n",
      "---------------------------------------------------------------------------\n",
      "\n",
      "Multi-objectives: optimize objective 2 (Fairness) ...\n",
      "---------------------------------------------------------------------------\n",
      "\n",
      "\n",
      "Loaded MIP start with objective 10\n",
      "\n",
      "Presolve added 7 rows and 0 columns\n",
      "Presolve removed 0 rows and 15 columns\n",
      "Presolve time: 0.00s\n",
      "Presolved: 40 rows, 103 columns, 251 nonzeros\n",
      "Presolved model has 7 SOS constraint(s)\n",
      "Variable types: 16 continuous, 87 integer (80 binary)\n",
      "\n",
      "Root relaxation: objective 3.333333e-01, 52 iterations, 0.00 seconds\n",
      "\n",
      "    Nodes    |    Current Node    |     Objective Bounds      |     Work\n",
      " Expl Unexpl |  Obj  Depth IntInf | Incumbent    BestBd   Gap | It/Node Time\n",
      "\n",
      "     0     0    0.33333    0   17   10.00000    0.33333  96.7%     -    0s\n",
      "H    0     0                       1.0000000    0.33333  66.7%     -    0s\n",
      "     0     0     cutoff    0         1.00000    1.00000  0.00%     -    0s\n",
      "\n",
      "Cutting planes:\n",
      "  Gomory: 2\n",
      "  Implied bound: 1\n",
      "  MIR: 1\n",
      "  Flow cover: 1\n",
      "\n",
      "Explored 1 nodes (72 simplex iterations) in 0.06 seconds\n",
      "Thread count was 8 (of 8 available processors)\n",
      "\n",
      "Solution count 2: 1 10 \n",
      "\n",
      "Optimal solution found (tolerance 1.00e-04)\n",
      "Best objective 1.000000000000e+00, best bound 1.000000000000e+00, gap 0.0000%\n",
      "\n",
      "---------------------------------------------------------------------------\n",
      "Multi-objectives: solved in 0.07 seconds, solution count 3\n",
      "\n"
     ]
    }
   ],
   "source": [
    "# Optimize\n",
    "# This method runs the optimization engine to solve the MIP problem in the model object m\n",
    "m.optimize()"
   ]
  },
  {
   "cell_type": "code",
   "execution_count": 19,
   "metadata": {},
   "outputs": [],
   "source": [
    "# The Status attribute  provides current optimization status of the model object m\n",
    "# In workforce model, we check if the model is infeasible or unbounded and report this situation\n",
    "status = m.Status\n",
    "if status == GRB.Status.INF_OR_UNBD or status == GRB.Status.INFEASIBLE  or status == GRB.Status.UNBOUNDED:\n",
    "    print('The model cannot be solved because it is infeasible or unbounded')\n",
    "    sys.exit(0)\n",
    "# If the optimization status of the model is not optimal for some other reason, we report that \n",
    "# situation.\n",
    "if status != GRB.Status.OPTIMAL:\n",
    "    print('Optimization was stopped with status ' + str(status))\n",
    "    sys.exit(0)"
   ]
  },
  {
   "cell_type": "code",
   "execution_count": 20,
   "metadata": {},
   "outputs": [
    {
     "name": "stdout",
     "output_type": "stream",
     "text": [
      "KPIs\n",
      "                    KPI Value\n",
      "0  Total slack required   7.0\n",
      "--------------------------------------------------\n",
      "Shifts\n",
      "  Worker  Number of shifts\n",
      "0    Amy               8.0\n",
      "1    Bob               7.0\n",
      "2  Cathy               7.0\n",
      "3    Dan               7.0\n",
      "4     Ed               7.0\n",
      "5   Fred               7.0\n",
      "6     Gu               8.0\n"
     ]
    },
    {
     "data": {
      "image/png": "[encoded data removed]",
      "text/plain": [
       "<Figure size 432x288 with 1 Axes>"
      ]
     },
     "metadata": {
      "needs_background": "light"
     },
     "output_type": "display_data"
    },
    {
     "name": "stdout",
     "output_type": "stream",
     "text": [
      "--------------------------------------------------\n",
      "Assigments\n",
      "Symbols: '-': not working, '*': working\n",
      "  worker Mon1 Tue2 Wed3 Thu4 Fri5 Sat6 Sun7 Mon8 Tue9 Wed10 Thu11 Fri12 Sat13 Sun14\n",
      "0    Amy    -    -    *    -    *    -    *    -    -     *     *     *     *     *\n",
      "1    Bob    *    *    -    -    *    *    -    *    -     -     *     -     *     -\n",
      "2  Cathy    -    -    *    *    -    -    *    -    -     *     *     *     *     -\n",
      "3    Dan    -    -    *    -    *    *    -    -    *     -     *     *     *     -\n",
      "4     Ed    *    -    -    *    *    -    *    *    -     -     -     -     *     *\n",
      "5   Fred    *    *    *    -    -    *    -    -    -     -     -     *     *     *\n",
      "6     Gu    -    -    -    -    *    *    *    -    *     *     -     *     *     *\n"
     ]
    }
   ],
   "source": [
    "# Print total slack and the number of shifts worked for each worker\n",
    "# The KPIs for this optimization number is the number of extra worked required to satisfy \n",
    "# demand and the number of shifts that each employed worker is working.\n",
    "solution = {}\n",
    "shifts_sol = {}\n",
    "solution['Total slack required'] = str(totSlack.X)\n",
    "assignments_all = {}\n",
    "gant={}\n",
    "\n",
    "assignments = dict()\n",
    "for [w, s] in availability:\n",
    "    if x[w, s].x == 1:\n",
    "        if w in assignments:\n",
    "            assignments[w].append(s)\n",
    "        else:\n",
    "            assignments[w] = [s]\n",
    "\n",
    "print('KPIs')\n",
    "print(pd.DataFrame.from_records(list(solution.items()), columns=['KPI', 'Value']))\n",
    "print('-'*50)\n",
    "\n",
    "for w in workers:\n",
    "    shifts_sol[w]=totShifts[w].X\n",
    "    assignments_all[w]=assignments.get(w, [])\n",
    "\n",
    "print('Shifts')\n",
    "print(pd.DataFrame.from_records(list(shifts_sol.items()), columns=['Worker', 'Number of shifts']))\n",
    "    \n",
    "y_pos = np.arange(len(shifts_sol.keys())) \n",
    "plt.bar(y_pos,shifts_sol.values() , align='center')\n",
    "plt.xticks(y_pos, shifts_sol.keys())\n",
    "plt.show()\n",
    "\n",
    "print('-'*50)\n",
    "for w in assignments_all:\n",
    "    gant[w] = [w]\n",
    "    for d in shifts:\n",
    "        gant[w].append('*' if d in assignments_all[w] else '-')\n",
    "\n",
    "print('Assigments')\n",
    "print('Symbols: \\'-\\': not working, \\'*\\': working')\n",
    "pd.set_option('display.width', 1000)\n",
    "print(pd.DataFrame.from_records(list(gant.values()), columns=['worker']+shifts))"
   ]
  },
  {
   "cell_type": "markdown",
   "metadata": {},
   "source": [
    "Copyright © 2019 Gurobi Optimization, LLC"
   ]
  }
 ],
 "metadata": {
  "kernelspec": {
   "display_name": "Python 3",
   "language": "python",
   "name": "python3"
  },
  "language_info": {
   "codemirror_mode": {
    "name": "ipython",
    "version": 3
   },
   "file_extension": ".py",
   "mimetype": "text/x-python",
   "name": "python",
   "nbconvert_exporter": "python",
   "pygments_lexer": "ipython3",
   "version": "3.7.4"
  }
 },
 "nbformat": 4,
 "nbformat_minor": 2
}
